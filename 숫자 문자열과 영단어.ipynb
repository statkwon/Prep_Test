{
 "cells": [
  {
   "cell_type": "markdown",
   "id": "c5e675e5",
   "metadata": {},
   "source": [
    "# Code"
   ]
  },
  {
   "cell_type": "code",
   "execution_count": 1,
   "id": "e5a9a316",
   "metadata": {},
   "outputs": [],
   "source": [
    "def solution(s):\n",
    "    \n",
    "    num = {'zero':'0', 'one':'1', 'two':'2', 'three':'3', 'four':'4',\n",
    "           'five':'5', 'six':'6', 'seven':'7', 'eight':'8', 'nine':'9'}\n",
    "    for i, j in num.items():\n",
    "        s = s.replace(i, j)\n",
    "        print(s)\n",
    "    s = int(s)\n",
    "    \n",
    "    return s"
   ]
  },
  {
   "cell_type": "markdown",
   "id": "00109b3b",
   "metadata": {},
   "source": [
    "# Test Cases"
   ]
  },
  {
   "cell_type": "code",
   "execution_count": 2,
   "id": "8f76d526",
   "metadata": {},
   "outputs": [
    {
     "name": "stdout",
     "output_type": "stream",
     "text": [
      "one4seveneight\n",
      "14seveneight\n",
      "14seveneight\n",
      "14seveneight\n",
      "14seveneight\n",
      "14seveneight\n",
      "14seveneight\n",
      "147eight\n",
      "1478\n",
      "1478\n"
     ]
    },
    {
     "data": {
      "text/plain": [
       "1478"
      ]
     },
     "execution_count": 2,
     "metadata": {},
     "output_type": "execute_result"
    }
   ],
   "source": [
    "# Case 1\n",
    "solution(\"one4seveneight\")"
   ]
  },
  {
   "cell_type": "code",
   "execution_count": 3,
   "id": "6f4428b7",
   "metadata": {},
   "outputs": [
    {
     "name": "stdout",
     "output_type": "stream",
     "text": [
      "23four5six7\n",
      "23four5six7\n",
      "23four5six7\n",
      "23four5six7\n",
      "2345six7\n",
      "2345six7\n",
      "234567\n",
      "234567\n",
      "234567\n",
      "234567\n"
     ]
    },
    {
     "data": {
      "text/plain": [
       "234567"
      ]
     },
     "execution_count": 3,
     "metadata": {},
     "output_type": "execute_result"
    }
   ],
   "source": [
    "# Case 2\n",
    "solution(\"23four5six7\")"
   ]
  },
  {
   "cell_type": "code",
   "execution_count": 4,
   "id": "999dac79",
   "metadata": {},
   "outputs": [
    {
     "name": "stdout",
     "output_type": "stream",
     "text": [
      "2three45sixseven\n",
      "2three45sixseven\n",
      "2three45sixseven\n",
      "2345sixseven\n",
      "2345sixseven\n",
      "2345sixseven\n",
      "23456seven\n",
      "234567\n",
      "234567\n",
      "234567\n"
     ]
    },
    {
     "data": {
      "text/plain": [
       "234567"
      ]
     },
     "execution_count": 4,
     "metadata": {},
     "output_type": "execute_result"
    }
   ],
   "source": [
    "# Case 3\n",
    "solution(\"2three45sixseven\")"
   ]
  },
  {
   "cell_type": "code",
   "execution_count": 5,
   "id": "eca77153",
   "metadata": {},
   "outputs": [
    {
     "name": "stdout",
     "output_type": "stream",
     "text": [
      "123\n",
      "123\n",
      "123\n",
      "123\n",
      "123\n",
      "123\n",
      "123\n",
      "123\n",
      "123\n",
      "123\n"
     ]
    },
    {
     "data": {
      "text/plain": [
       "123"
      ]
     },
     "execution_count": 5,
     "metadata": {},
     "output_type": "execute_result"
    }
   ],
   "source": [
    "# Case 4\n",
    "solution(\"123\")"
   ]
  }
 ],
 "metadata": {
  "kernelspec": {
   "display_name": "Python 3 (ipykernel)",
   "language": "python",
   "name": "python3"
  },
  "language_info": {
   "codemirror_mode": {
    "name": "ipython",
    "version": 3
   },
   "file_extension": ".py",
   "mimetype": "text/x-python",
   "name": "python",
   "nbconvert_exporter": "python",
   "pygments_lexer": "ipython3",
   "version": "3.9.6"
  }
 },
 "nbformat": 4,
 "nbformat_minor": 5
}
