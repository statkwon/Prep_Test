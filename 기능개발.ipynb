{
 "cells": [
  {
   "cell_type": "markdown",
   "id": "8856d7ad",
   "metadata": {},
   "source": [
    "# Code"
   ]
  },
  {
   "cell_type": "code",
   "execution_count": 1,
   "id": "ca11951b",
   "metadata": {},
   "outputs": [],
   "source": [
    "def solution(progresses, speeds):\n",
    "    def ceil(n):\n",
    "        return int(-1 * n // 1 * -1)\n",
    "    \n",
    "    progresses = [100 - i for i in progresses]\n",
    "    tmp = [ceil(i / j) for i, j in zip(progresses, speeds)]\n",
    "    print(tmp)\n",
    "    \n",
    "    max_ = tmp[0]\n",
    "    res = []\n",
    "    i = 0\n",
    "    while i != len(tmp):\n",
    "        max_ = max(max_, tmp[i])\n",
    "        res.append(max_)\n",
    "        i += 1\n",
    "    \n",
    "    answer = [res.count(i) for i in sorted(set(res))]\n",
    "    return answer"
   ]
  },
  {
   "cell_type": "markdown",
   "id": "22c94294",
   "metadata": {},
   "source": [
    "# Test Cases"
   ]
  },
  {
   "cell_type": "code",
   "execution_count": 2,
   "id": "6fb05de1",
   "metadata": {
    "scrolled": true
   },
   "outputs": [
    {
     "name": "stdout",
     "output_type": "stream",
     "text": [
      "[7, 3, 9]\n"
     ]
    },
    {
     "data": {
      "text/plain": [
       "[2, 1]"
      ]
     },
     "execution_count": 2,
     "metadata": {},
     "output_type": "execute_result"
    }
   ],
   "source": [
    "# Case 1\n",
    "solution([93, 30, 55], [1, 30, 5])"
   ]
  },
  {
   "cell_type": "code",
   "execution_count": 3,
   "id": "80b6848a",
   "metadata": {
    "scrolled": true
   },
   "outputs": [
    {
     "name": "stdout",
     "output_type": "stream",
     "text": [
      "[5, 10, 1, 1, 20, 1]\n"
     ]
    },
    {
     "data": {
      "text/plain": [
       "[1, 3, 2]"
      ]
     },
     "execution_count": 3,
     "metadata": {},
     "output_type": "execute_result"
    }
   ],
   "source": [
    "# Case 2\n",
    "solution([95, 90, 99, 99, 80, 99], [1, 1, 1, 1, 1, 1])"
   ]
  }
 ],
 "metadata": {
  "kernelspec": {
   "display_name": "Python 3 (ipykernel)",
   "language": "python",
   "name": "python3"
  },
  "language_info": {
   "codemirror_mode": {
    "name": "ipython",
    "version": 3
   },
   "file_extension": ".py",
   "mimetype": "text/x-python",
   "name": "python",
   "nbconvert_exporter": "python",
   "pygments_lexer": "ipython3",
   "version": "3.9.6"
  }
 },
 "nbformat": 4,
 "nbformat_minor": 5
}
