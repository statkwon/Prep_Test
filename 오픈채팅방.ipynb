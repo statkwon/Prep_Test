{
 "cells": [
  {
   "cell_type": "markdown",
   "id": "8856d7ad",
   "metadata": {},
   "source": [
    "# Code"
   ]
  },
  {
   "cell_type": "code",
   "execution_count": 1,
   "id": "869cb9c6",
   "metadata": {},
   "outputs": [],
   "source": [
    "def solution(record):\n",
    "    users = {}\n",
    "    for i in range(len(record)):\n",
    "        x = record[i].split(' ')\n",
    "        if x[0] != 'Leave':\n",
    "            users.update({x[1]:x[2]})\n",
    "        print(users)\n",
    "    \n",
    "    answer = []\n",
    "    for i in range(len(record)):\n",
    "        x = record[i].split(' ')\n",
    "        if x[0] != 'Change':\n",
    "            x[0] = x[0].replace('Enter', '들어왔습니다.').replace('Leave', '나갔습니다.')\n",
    "            x[1] = f'{users[x[1]]}님이'\n",
    "            answer.append(x[1] + ' ' + x[0])\n",
    "        else:\n",
    "            pass\n",
    "    \n",
    "    return answer"
   ]
  },
  {
   "cell_type": "markdown",
   "id": "22c94294",
   "metadata": {},
   "source": [
    "# Test Cases"
   ]
  },
  {
   "cell_type": "code",
   "execution_count": 2,
   "id": "faeb7ed9",
   "metadata": {},
   "outputs": [
    {
     "name": "stdout",
     "output_type": "stream",
     "text": [
      "{'uid1234': 'Muzi'}\n",
      "{'uid1234': 'Muzi', 'uid4567': 'Prodo'}\n",
      "{'uid1234': 'Muzi', 'uid4567': 'Prodo'}\n",
      "{'uid1234': 'Prodo', 'uid4567': 'Prodo'}\n",
      "{'uid1234': 'Prodo', 'uid4567': 'Ryan'}\n"
     ]
    },
    {
     "data": {
      "text/plain": [
       "['Prodo님이 들어왔습니다.', 'Ryan님이 들어왔습니다.', 'Prodo님이 나갔습니다.', 'Prodo님이 들어왔습니다.']"
      ]
     },
     "execution_count": 2,
     "metadata": {},
     "output_type": "execute_result"
    }
   ],
   "source": [
    "# Case 1\n",
    "solution([\"Enter uid1234 Muzi\", \"Enter uid4567 Prodo\", \"Leave uid1234\", \"Enter uid1234 Prodo\", \"Change uid4567 Ryan\"])"
   ]
  }
 ],
 "metadata": {
  "kernelspec": {
   "display_name": "Python 3 (ipykernel)",
   "language": "python",
   "name": "python3"
  },
  "language_info": {
   "codemirror_mode": {
    "name": "ipython",
    "version": 3
   },
   "file_extension": ".py",
   "mimetype": "text/x-python",
   "name": "python",
   "nbconvert_exporter": "python",
   "pygments_lexer": "ipython3",
   "version": "3.9.6"
  }
 },
 "nbformat": 4,
 "nbformat_minor": 5
}
