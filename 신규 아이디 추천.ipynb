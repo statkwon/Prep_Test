{
 "cells": [
  {
   "cell_type": "markdown",
   "id": "9e4aa557",
   "metadata": {},
   "source": [
    "# Code"
   ]
  },
  {
   "cell_type": "code",
   "execution_count": 1,
   "id": "5aa8eff9",
   "metadata": {},
   "outputs": [],
   "source": [
    "def solution(new_id):\n",
    "\n",
    "    # Step 1\n",
    "    new_id = new_id.lower()\n",
    "    print(f'Step 1: \"{new_id}\"')\n",
    "\n",
    "    # Step 2\n",
    "    ban_char = '~!@#$%^&*()=+[{]}:?,<>/'\n",
    "    for i in range(len(ban_char)):\n",
    "        new_id = new_id.replace(ban_char[i], '')\n",
    "    print(f'Step 2: \"{new_id}\"')\n",
    "\n",
    "    # Step 3\n",
    "    while new_id.find('..') != -1:\n",
    "        new_id = new_id.replace('..', '.')\n",
    "    print(f'Step 3: \"{new_id}\"')\n",
    "\n",
    "    # Step 4\n",
    "    new_id = new_id.lstrip('.')\n",
    "    new_id = new_id.rstrip('.')\n",
    "    print(f'Step 4: \"{new_id}\"')\n",
    "\n",
    "    # Step 5\n",
    "    if new_id == '':\n",
    "        new_id = 'a'\n",
    "    else:\n",
    "        pass\n",
    "    print(f'Step 5: \"{new_id}\"')\n",
    "\n",
    "    # Step 6\n",
    "    if len(new_id) >= 16:\n",
    "        new_id = new_id[:15]\n",
    "        new_id = new_id.rstrip('.')\n",
    "    else:\n",
    "        pass\n",
    "    print(f'Step 6: \"{new_id}\"')\n",
    "\n",
    "    # Step 7\n",
    "    if len(new_id) <= 2:\n",
    "        new_id = new_id + new_id[-1] * (3 - len(new_id))\n",
    "    else:\n",
    "        pass\n",
    "    print(f'Step 7: \"{new_id}\"')\n",
    "    \n",
    "    return new_id"
   ]
  },
  {
   "cell_type": "markdown",
   "id": "66e9b205",
   "metadata": {},
   "source": [
    "# Test Cases"
   ]
  },
  {
   "cell_type": "code",
   "execution_count": 2,
   "id": "d11f65fc",
   "metadata": {},
   "outputs": [
    {
     "name": "stdout",
     "output_type": "stream",
     "text": [
      "Step 1: \"...!@bat#*..y.abcdefghijklm\"\n",
      "Step 2: \"...bat..y.abcdefghijklm\"\n",
      "Step 3: \".bat.y.abcdefghijklm\"\n",
      "Step 4: \"bat.y.abcdefghijklm\"\n",
      "Step 5: \"bat.y.abcdefghijklm\"\n",
      "Step 6: \"bat.y.abcdefghi\"\n",
      "Step 7: \"bat.y.abcdefghi\"\n"
     ]
    },
    {
     "data": {
      "text/plain": [
       "'bat.y.abcdefghi'"
      ]
     },
     "execution_count": 2,
     "metadata": {},
     "output_type": "execute_result"
    }
   ],
   "source": [
    "# Case 1\n",
    "solution(\"...!@BaT#*..y.abcdefghijklm\")"
   ]
  },
  {
   "cell_type": "code",
   "execution_count": 3,
   "id": "72460bd5",
   "metadata": {},
   "outputs": [
    {
     "name": "stdout",
     "output_type": "stream",
     "text": [
      "Step 1: \"z-+.^.\"\n",
      "Step 2: \"z-..\"\n",
      "Step 3: \"z-.\"\n",
      "Step 4: \"z-\"\n",
      "Step 5: \"z-\"\n",
      "Step 6: \"z-\"\n",
      "Step 7: \"z--\"\n"
     ]
    },
    {
     "data": {
      "text/plain": [
       "'z--'"
      ]
     },
     "execution_count": 3,
     "metadata": {},
     "output_type": "execute_result"
    }
   ],
   "source": [
    "# Case 2\n",
    "solution(\"z-+.^.\")"
   ]
  },
  {
   "cell_type": "code",
   "execution_count": 4,
   "id": "aeb25f1c",
   "metadata": {},
   "outputs": [
    {
     "name": "stdout",
     "output_type": "stream",
     "text": [
      "Step 1: \"=.=\"\n",
      "Step 2: \".\"\n",
      "Step 3: \".\"\n",
      "Step 4: \"\"\n",
      "Step 5: \"a\"\n",
      "Step 6: \"a\"\n",
      "Step 7: \"aaa\"\n"
     ]
    },
    {
     "data": {
      "text/plain": [
       "'aaa'"
      ]
     },
     "execution_count": 4,
     "metadata": {},
     "output_type": "execute_result"
    }
   ],
   "source": [
    "# Case 3\n",
    "solution(\"=.=\")"
   ]
  },
  {
   "cell_type": "code",
   "execution_count": 5,
   "id": "e12fad4f",
   "metadata": {},
   "outputs": [
    {
     "name": "stdout",
     "output_type": "stream",
     "text": [
      "Step 1: \"123_.def\"\n",
      "Step 2: \"123_.def\"\n",
      "Step 3: \"123_.def\"\n",
      "Step 4: \"123_.def\"\n",
      "Step 5: \"123_.def\"\n",
      "Step 6: \"123_.def\"\n",
      "Step 7: \"123_.def\"\n"
     ]
    },
    {
     "data": {
      "text/plain": [
       "'123_.def'"
      ]
     },
     "execution_count": 5,
     "metadata": {},
     "output_type": "execute_result"
    }
   ],
   "source": [
    "# Case 4\n",
    "solution(\"123_.def\")"
   ]
  },
  {
   "cell_type": "code",
   "execution_count": 6,
   "id": "6f253f0f",
   "metadata": {},
   "outputs": [
    {
     "name": "stdout",
     "output_type": "stream",
     "text": [
      "Step 1: \"abcdefghijklmn.p\"\n",
      "Step 2: \"abcdefghijklmn.p\"\n",
      "Step 3: \"abcdefghijklmn.p\"\n",
      "Step 4: \"abcdefghijklmn.p\"\n",
      "Step 5: \"abcdefghijklmn.p\"\n",
      "Step 6: \"abcdefghijklmn\"\n",
      "Step 7: \"abcdefghijklmn\"\n"
     ]
    },
    {
     "data": {
      "text/plain": [
       "'abcdefghijklmn'"
      ]
     },
     "execution_count": 6,
     "metadata": {},
     "output_type": "execute_result"
    }
   ],
   "source": [
    "# Case 5\n",
    "solution(\"abcdefghijklmn.p\")"
   ]
  }
 ],
 "metadata": {
  "kernelspec": {
   "display_name": "Python 3 (ipykernel)",
   "language": "python",
   "name": "python3"
  },
  "language_info": {
   "codemirror_mode": {
    "name": "ipython",
    "version": 3
   },
   "file_extension": ".py",
   "mimetype": "text/x-python",
   "name": "python",
   "nbconvert_exporter": "python",
   "pygments_lexer": "ipython3",
   "version": "3.9.6"
  }
 },
 "nbformat": 4,
 "nbformat_minor": 5
}
