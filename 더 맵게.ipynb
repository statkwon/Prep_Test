{
 "cells": [
  {
   "cell_type": "markdown",
   "id": "8856d7ad",
   "metadata": {},
   "source": [
    "# Code"
   ]
  },
  {
   "cell_type": "code",
   "execution_count": 1,
   "id": "8f710f94",
   "metadata": {},
   "outputs": [],
   "source": [
    "import heapq\n",
    "\n",
    "def solution(scoville, K):\n",
    "    answer = 0\n",
    "    scoville.sort()\n",
    "    min_ = scoville[0]\n",
    "    while (min_ < K) & (len(scoville) > 1):\n",
    "        x = heapq.heappop(scoville)\n",
    "        y = heapq.heappop(scoville)\n",
    "        heapq.heappush(scoville, x + (y * 2))\n",
    "        \n",
    "        min_ = scoville[0]\n",
    "        answer += 1\n",
    "        print(scoville, answer)\n",
    "    if min_ < K:\n",
    "        answer = -1\n",
    "    return answer"
   ]
  },
  {
   "cell_type": "markdown",
   "id": "22c94294",
   "metadata": {},
   "source": [
    "# Test Cases"
   ]
  },
  {
   "cell_type": "code",
   "execution_count": 2,
   "id": "4dc6916a",
   "metadata": {},
   "outputs": [
    {
     "name": "stdout",
     "output_type": "stream",
     "text": [
      "[3, 5, 10, 12, 9] 1\n",
      "[9, 12, 10, 13] 2\n"
     ]
    },
    {
     "data": {
      "text/plain": [
       "2"
      ]
     },
     "execution_count": 2,
     "metadata": {},
     "output_type": "execute_result"
    }
   ],
   "source": [
    "# Case 1\n",
    "solution([1, 2, 3, 9, 10, 12], 7)"
   ]
  }
 ],
 "metadata": {
  "kernelspec": {
   "display_name": "Python 3 (ipykernel)",
   "language": "python",
   "name": "python3"
  },
  "language_info": {
   "codemirror_mode": {
    "name": "ipython",
    "version": 3
   },
   "file_extension": ".py",
   "mimetype": "text/x-python",
   "name": "python",
   "nbconvert_exporter": "python",
   "pygments_lexer": "ipython3",
   "version": "3.9.6"
  }
 },
 "nbformat": 4,
 "nbformat_minor": 5
}
