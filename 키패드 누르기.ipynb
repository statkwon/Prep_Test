{
 "cells": [
  {
   "cell_type": "markdown",
   "id": "8856d7ad",
   "metadata": {},
   "source": [
    "# Code"
   ]
  },
  {
   "cell_type": "code",
   "execution_count": 1,
   "id": "380d2f11",
   "metadata": {},
   "outputs": [],
   "source": [
    "def solution(numbers, hand):\n",
    "    \n",
    "    answer = ''\n",
    "    keypad = {1:[1, 1], 2:[1, 2], 3:[1, 3], 4:[2, 1], 5:[2, 2], 6:[2, 3],\n",
    "              7:[3, 1], 8:[3, 2], 9:[3, 3], '*':[4, 1], 0:[4, 2], '#':[4, 3]}\n",
    "    L = keypad['*'] ; R = keypad['#']\n",
    "    \n",
    "    def distance(a, b):\n",
    "        dist = (abs(a[0] - b[0]) + abs(a[1] - b[1]))\n",
    "        return dist\n",
    "    \n",
    "    for i in range(len(numbers)):\n",
    "        if numbers[i] in [1, 4, 7]:\n",
    "            answer = answer + 'L'\n",
    "            L = keypad[numbers[i]]\n",
    "        elif numbers[i] in [3, 6, 9]:\n",
    "            answer = answer + 'R'\n",
    "            R = keypad[numbers[i]]\n",
    "        else:\n",
    "            dist_from_L = distance(keypad[numbers[i]], L)\n",
    "            dist_from_R = distance(keypad[numbers[i]], R)\n",
    "            if dist_from_L > dist_from_R:\n",
    "                answer = answer + 'R'\n",
    "                R = keypad[numbers[i]]\n",
    "            elif dist_from_L < dist_from_R:\n",
    "                answer = answer + 'L'\n",
    "                L = keypad[numbers[i]]\n",
    "            else:\n",
    "                if hand == 'right':\n",
    "                    answer = answer + 'R'\n",
    "                    R = keypad[numbers[i]]\n",
    "                else:\n",
    "                    answer = answer + 'L'\n",
    "                    L = keypad[numbers[i]]\n",
    "                    \n",
    "        print(f'순서: {answer} | 왼손 위치: {L} | 오른손 위치: {R}')\n",
    "    \n",
    "    return answer"
   ]
  },
  {
   "cell_type": "markdown",
   "id": "696e7992",
   "metadata": {},
   "source": [
    "# Test Cases"
   ]
  },
  {
   "cell_type": "code",
   "execution_count": 2,
   "id": "9752da23",
   "metadata": {},
   "outputs": [
    {
     "name": "stdout",
     "output_type": "stream",
     "text": [
      "순서: L | 왼손 위치: [1, 1] | 오른손 위치: [4, 3]\n",
      "순서: LR | 왼손 위치: [1, 1] | 오른손 위치: [1, 3]\n",
      "순서: LRL | 왼손 위치: [2, 1] | 오른손 위치: [1, 3]\n",
      "순서: LRLL | 왼손 위치: [2, 2] | 오른손 위치: [1, 3]\n",
      "순서: LRLLL | 왼손 위치: [3, 2] | 오른손 위치: [1, 3]\n",
      "순서: LRLLLR | 왼손 위치: [3, 2] | 오른손 위치: [1, 2]\n",
      "순서: LRLLLRL | 왼손 위치: [1, 1] | 오른손 위치: [1, 2]\n",
      "순서: LRLLLRLL | 왼손 위치: [2, 1] | 오른손 위치: [1, 2]\n",
      "순서: LRLLLRLLR | 왼손 위치: [2, 1] | 오른손 위치: [2, 2]\n",
      "순서: LRLLLRLLRR | 왼손 위치: [2, 1] | 오른손 위치: [3, 3]\n",
      "순서: LRLLLRLLRRL | 왼손 위치: [2, 2] | 오른손 위치: [3, 3]\n"
     ]
    },
    {
     "data": {
      "text/plain": [
       "'LRLLLRLLRRL'"
      ]
     },
     "execution_count": 2,
     "metadata": {},
     "output_type": "execute_result"
    }
   ],
   "source": [
    "# Case 1\n",
    "solution([1, 3, 4, 5, 8, 2, 1, 4, 5, 9, 5], \"right\")"
   ]
  },
  {
   "cell_type": "code",
   "execution_count": 3,
   "id": "106b5507",
   "metadata": {},
   "outputs": [
    {
     "name": "stdout",
     "output_type": "stream",
     "text": [
      "순서: L | 왼손 위치: [3, 1] | 오른손 위치: [4, 3]\n",
      "순서: LR | 왼손 위치: [3, 1] | 오른손 위치: [4, 2]\n",
      "순서: LRL | 왼손 위치: [3, 2] | 오른손 위치: [4, 2]\n",
      "순서: LRLL | 왼손 위치: [1, 2] | 오른손 위치: [4, 2]\n",
      "순서: LRLLR | 왼손 위치: [1, 2] | 오른손 위치: [3, 2]\n",
      "순서: LRLLRR | 왼손 위치: [1, 2] | 오른손 위치: [1, 3]\n",
      "순서: LRLLRRL | 왼손 위치: [1, 1] | 오른손 위치: [1, 3]\n",
      "순서: LRLLRRLL | 왼손 위치: [2, 2] | 오른손 위치: [1, 3]\n",
      "순서: LRLLRRLLL | 왼손 위치: [3, 1] | 오른손 위치: [1, 3]\n",
      "순서: LRLLRRLLLR | 왼손 위치: [3, 1] | 오른손 위치: [2, 3]\n",
      "순서: LRLLRRLLLRR | 왼손 위치: [3, 1] | 오른손 위치: [1, 2]\n"
     ]
    },
    {
     "data": {
      "text/plain": [
       "'LRLLRRLLLRR'"
      ]
     },
     "execution_count": 3,
     "metadata": {},
     "output_type": "execute_result"
    }
   ],
   "source": [
    "# Case 2\n",
    "solution([7, 0, 8, 2, 8, 3, 1, 5, 7, 6, 2], \"left\")"
   ]
  },
  {
   "cell_type": "code",
   "execution_count": 4,
   "id": "323d5a9d",
   "metadata": {},
   "outputs": [
    {
     "name": "stdout",
     "output_type": "stream",
     "text": [
      "순서: L | 왼손 위치: [1, 1] | 오른손 위치: [4, 3]\n",
      "순서: LL | 왼손 위치: [1, 2] | 오른손 위치: [4, 3]\n",
      "순서: LLR | 왼손 위치: [1, 2] | 오른손 위치: [1, 3]\n",
      "순서: LLRL | 왼손 위치: [2, 1] | 오른손 위치: [1, 3]\n",
      "순서: LLRLL | 왼손 위치: [2, 2] | 오른손 위치: [1, 3]\n",
      "순서: LLRLLR | 왼손 위치: [2, 2] | 오른손 위치: [2, 3]\n",
      "순서: LLRLLRL | 왼손 위치: [3, 1] | 오른손 위치: [2, 3]\n",
      "순서: LLRLLRLL | 왼손 위치: [3, 2] | 오른손 위치: [2, 3]\n",
      "순서: LLRLLRLLR | 왼손 위치: [3, 2] | 오른손 위치: [3, 3]\n",
      "순서: LLRLLRLLRL | 왼손 위치: [4, 2] | 오른손 위치: [3, 3]\n"
     ]
    },
    {
     "data": {
      "text/plain": [
       "'LLRLLRLLRL'"
      ]
     },
     "execution_count": 4,
     "metadata": {},
     "output_type": "execute_result"
    }
   ],
   "source": [
    "# Case 3\n",
    "solution([1, 2, 3, 4, 5, 6, 7, 8, 9, 0], \"right\")"
   ]
  }
 ],
 "metadata": {
  "kernelspec": {
   "display_name": "Python 3 (ipykernel)",
   "language": "python",
   "name": "python3"
  },
  "language_info": {
   "codemirror_mode": {
    "name": "ipython",
    "version": 3
   },
   "file_extension": ".py",
   "mimetype": "text/x-python",
   "name": "python",
   "nbconvert_exporter": "python",
   "pygments_lexer": "ipython3",
   "version": "3.9.6"
  }
 },
 "nbformat": 4,
 "nbformat_minor": 5
}
