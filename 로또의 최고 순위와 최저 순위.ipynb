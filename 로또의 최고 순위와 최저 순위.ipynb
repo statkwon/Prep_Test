{
 "cells": [
  {
   "cell_type": "markdown",
   "id": "51768df6",
   "metadata": {},
   "source": [
    "# Code"
   ]
  },
  {
   "cell_type": "code",
   "execution_count": 1,
   "id": "2ecd3e71",
   "metadata": {},
   "outputs": [],
   "source": [
    "def solution(lottos, win_nums):\n",
    "    \n",
    "    worst = 6 - len(set(win_nums) - set(lottos))\n",
    "    best = 6 - len(set(win_nums) - set(lottos)) + lottos.count(0)\n",
    "    \n",
    "    if worst > 1:\n",
    "        worst_rank = 6 - worst + 1\n",
    "    else:\n",
    "        worst_rank = 6\n",
    "    \n",
    "    if best > 1:\n",
    "        best_rank = 6 - best + 1\n",
    "    else:\n",
    "        best_rank = 6\n",
    "    \n",
    "    answer = [best_rank, worst_rank]\n",
    "    \n",
    "    return answer"
   ]
  },
  {
   "cell_type": "markdown",
   "id": "6d0d2bbd",
   "metadata": {},
   "source": [
    "# Test Cases"
   ]
  },
  {
   "cell_type": "code",
   "execution_count": 2,
   "id": "fa8b7746",
   "metadata": {},
   "outputs": [
    {
     "data": {
      "text/plain": [
       "[3, 5]"
      ]
     },
     "execution_count": 2,
     "metadata": {},
     "output_type": "execute_result"
    }
   ],
   "source": [
    "# Case 1\n",
    "solution([44, 1, 0, 0, 31, 25], [31, 10, 45, 1, 6, 19])"
   ]
  },
  {
   "cell_type": "code",
   "execution_count": 3,
   "id": "0f38e345",
   "metadata": {},
   "outputs": [
    {
     "data": {
      "text/plain": [
       "[1, 6]"
      ]
     },
     "execution_count": 3,
     "metadata": {},
     "output_type": "execute_result"
    }
   ],
   "source": [
    "# Case 2\n",
    "solution([0, 0, 0, 0, 0, 0], [38, 19, 20, 40, 15, 25])"
   ]
  },
  {
   "cell_type": "code",
   "execution_count": 4,
   "id": "a67bde12",
   "metadata": {},
   "outputs": [
    {
     "data": {
      "text/plain": [
       "[1, 1]"
      ]
     },
     "execution_count": 4,
     "metadata": {},
     "output_type": "execute_result"
    }
   ],
   "source": [
    "# Case 3\n",
    "solution([45, 4, 35, 20, 3, 9], [20, 9, 3, 45, 4, 35])"
   ]
  }
 ],
 "metadata": {
  "kernelspec": {
   "display_name": "Python 3 (ipykernel)",
   "language": "python",
   "name": "python3"
  },
  "language_info": {
   "codemirror_mode": {
    "name": "ipython",
    "version": 3
   },
   "file_extension": ".py",
   "mimetype": "text/x-python",
   "name": "python",
   "nbconvert_exporter": "python",
   "pygments_lexer": "ipython3",
   "version": "3.9.6"
  }
 },
 "nbformat": 4,
 "nbformat_minor": 5
}
