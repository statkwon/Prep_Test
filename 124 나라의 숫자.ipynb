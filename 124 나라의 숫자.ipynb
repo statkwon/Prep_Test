{
 "cells": [
  {
   "cell_type": "markdown",
   "id": "8856d7ad",
   "metadata": {},
   "source": [
    "# Code"
   ]
  },
  {
   "cell_type": "code",
   "execution_count": 1,
   "id": "ca11951b",
   "metadata": {},
   "outputs": [],
   "source": [
    "def solution(n):\n",
    "    q = ''\n",
    "    res = []\n",
    "    \n",
    "    while q != 0:\n",
    "        q = n // 3 ; r = n % 3\n",
    "        if r == 0:\n",
    "            q += -1 ; r = 3\n",
    "        else:\n",
    "            pass\n",
    "        n = q\n",
    "        print(q, r)\n",
    "        res.append(r)\n",
    "    \n",
    "    res.reverse()\n",
    "    res = ['4' if i == 3 else str(i) for i in res]\n",
    "    res = ''.join(res)\n",
    "    \n",
    "    return res"
   ]
  },
  {
   "cell_type": "markdown",
   "id": "8b521c5d",
   "metadata": {},
   "source": [
    "$a=a \\\\\n",
    "ab=3\\times a+b \\\\\n",
    "abc=3^2\\times a+3\\times b+c \\\\\n",
    "abcd=3^3\\times a+3^2\\times b+3\\times c+d \\\\\n",
    "\\vdots$"
   ]
  },
  {
   "cell_type": "markdown",
   "id": "22c94294",
   "metadata": {},
   "source": [
    "# Test Cases"
   ]
  },
  {
   "cell_type": "code",
   "execution_count": 2,
   "id": "53594c98",
   "metadata": {},
   "outputs": [
    {
     "name": "stdout",
     "output_type": "stream",
     "text": [
      "0 1\n"
     ]
    },
    {
     "data": {
      "text/plain": [
       "'1'"
      ]
     },
     "execution_count": 2,
     "metadata": {},
     "output_type": "execute_result"
    }
   ],
   "source": [
    "# Case 1\n",
    "solution(1)"
   ]
  },
  {
   "cell_type": "code",
   "execution_count": 3,
   "id": "cd8d257d",
   "metadata": {},
   "outputs": [
    {
     "name": "stdout",
     "output_type": "stream",
     "text": [
      "0 2\n"
     ]
    },
    {
     "data": {
      "text/plain": [
       "'2'"
      ]
     },
     "execution_count": 3,
     "metadata": {},
     "output_type": "execute_result"
    }
   ],
   "source": [
    "# Case 2\n",
    "solution(2)"
   ]
  },
  {
   "cell_type": "code",
   "execution_count": 4,
   "id": "d06cf4a7",
   "metadata": {},
   "outputs": [
    {
     "name": "stdout",
     "output_type": "stream",
     "text": [
      "0 3\n"
     ]
    },
    {
     "data": {
      "text/plain": [
       "'4'"
      ]
     },
     "execution_count": 4,
     "metadata": {},
     "output_type": "execute_result"
    }
   ],
   "source": [
    "# Case 3\n",
    "solution(3)"
   ]
  },
  {
   "cell_type": "code",
   "execution_count": 5,
   "id": "7fcfe94b",
   "metadata": {},
   "outputs": [
    {
     "name": "stdout",
     "output_type": "stream",
     "text": [
      "1 1\n",
      "0 1\n"
     ]
    },
    {
     "data": {
      "text/plain": [
       "'11'"
      ]
     },
     "execution_count": 5,
     "metadata": {},
     "output_type": "execute_result"
    }
   ],
   "source": [
    "# Case 4\n",
    "solution(4)"
   ]
  }
 ],
 "metadata": {
  "kernelspec": {
   "display_name": "Python 3 (ipykernel)",
   "language": "python",
   "name": "python3"
  },
  "language_info": {
   "codemirror_mode": {
    "name": "ipython",
    "version": 3
   },
   "file_extension": ".py",
   "mimetype": "text/x-python",
   "name": "python",
   "nbconvert_exporter": "python",
   "pygments_lexer": "ipython3",
   "version": "3.9.6"
  }
 },
 "nbformat": 4,
 "nbformat_minor": 5
}
