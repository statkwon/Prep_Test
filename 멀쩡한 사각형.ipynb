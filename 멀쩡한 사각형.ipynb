{
 "cells": [
  {
   "cell_type": "markdown",
   "id": "8856d7ad",
   "metadata": {},
   "source": [
    "# Code"
   ]
  },
  {
   "cell_type": "code",
   "execution_count": 1,
   "id": "a945dd2d",
   "metadata": {},
   "outputs": [],
   "source": [
    "def solution(w, h):\n",
    "    if w == h:\n",
    "        answer = w * (w - 1)\n",
    "    else:\n",
    "        x = min(w, h) ; y = max(w, h)\n",
    "        res = [((x - i) * y) // x * 2 for i in range(1, x)]\n",
    "        print(res)\n",
    "        answer = sum(res)\n",
    "    return answer"
   ]
  },
  {
   "attachments": {},
   "cell_type": "markdown",
   "id": "b33c817c",
   "metadata": {},
   "source": [
    "<img src='fig.jpeg' width=200/>"
   ]
  },
  {
   "cell_type": "markdown",
   "id": "22c94294",
   "metadata": {},
   "source": [
    "# Test Cases"
   ]
  },
  {
   "cell_type": "code",
   "execution_count": 2,
   "id": "efe87477",
   "metadata": {},
   "outputs": [
    {
     "name": "stdout",
     "output_type": "stream",
     "text": [
      "[20, 18, 14, 12, 8, 6, 2]\n"
     ]
    },
    {
     "data": {
      "text/plain": [
       "80"
      ]
     },
     "execution_count": 2,
     "metadata": {},
     "output_type": "execute_result"
    }
   ],
   "source": [
    "# Case 1\n",
    "solution(8, 12)"
   ]
  }
 ],
 "metadata": {
  "kernelspec": {
   "display_name": "Python 3 (ipykernel)",
   "language": "python",
   "name": "python3"
  },
  "language_info": {
   "codemirror_mode": {
    "name": "ipython",
    "version": 3
   },
   "file_extension": ".py",
   "mimetype": "text/x-python",
   "name": "python",
   "nbconvert_exporter": "python",
   "pygments_lexer": "ipython3",
   "version": "3.9.6"
  }
 },
 "nbformat": 4,
 "nbformat_minor": 5
}
